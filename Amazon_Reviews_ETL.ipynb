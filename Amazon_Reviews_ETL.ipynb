{
  "nbformat": 4,
  "nbformat_minor": 0,
  "metadata": {
    "colab": {
      "name": "Amazon_Reviews_ETL.ipynb",
      "provenance": [],
      "include_colab_link": true
    },
    "kernelspec": {
      "display_name": "Python 3",
      "name": "python3"
    },
    "nteract": {
      "version": "0.12.3"
    }
  },
  "cells": [
    {
      "cell_type": "markdown",
      "metadata": {
        "id": "view-in-github",
        "colab_type": "text"
      },
      "source": [
        "<a href=\"https://colab.research.google.com/github/sarahhaley1/Amazon_Vine_Analysis/blob/main/Amazon_Reviews_ETL.ipynb\" target=\"_parent\"><img src=\"https://colab.research.google.com/assets/colab-badge.svg\" alt=\"Open In Colab\"/></a>"
      ]
    },
    {
      "cell_type": "code",
      "metadata": {
        "colab": {
          "base_uri": "https://localhost:8080/"
        },
        "id": "V58rxea0HqSa",
        "outputId": "dd9f0cbb-bf8f-4c95-be60-a4f5d24b99c6"
      },
      "source": [
        "import os\n",
        "# Find the latest version of spark 2.0  from http://www-us.apache.org/dist/spark/ and enter as the spark version\n",
        "# For example:\n",
        "# spark_version = 'spark-3.0.0'\n",
        "spark_version = 'spark-3.0.1'\n",
        "os.environ['SPARK_VERSION']=spark_version\n",
        "\n",
        "# Install Spark and Java\n",
        "!apt-get update\n",
        "!apt-get install openjdk-11-jdk-headless -qq > /dev/null\n",
        "!wget -q http://www-us.apache.org/dist/spark/$SPARK_VERSION/$SPARK_VERSION-bin-hadoop2.7.tgz\n",
        "!tar xf $SPARK_VERSION-bin-hadoop2.7.tgz\n",
        "!pip install -q findspark\n",
        "\n",
        "# Set Environment Variables\n",
        "import os\n",
        "os.environ[\"JAVA_HOME\"] = \"/usr/lib/jvm/java-11-openjdk-amd64\"\n",
        "os.environ[\"SPARK_HOME\"] = f\"/content/{spark_version}-bin-hadoop2.7\"\n",
        "\n",
        "# Start a SparkSession\n",
        "import findspark\n",
        "findspark.init()"
      ],
      "execution_count": null,
      "outputs": [
        {
          "output_type": "stream",
          "text": [
            "\r0% [Working]\r            \rGet:1 http://security.ubuntu.com/ubuntu bionic-security InRelease [88.7 kB]\n",
            "\r0% [Connecting to archive.ubuntu.com (91.189.88.152)] [1 InRelease 14.2 kB/88.7\r                                                                               \rHit:2 https://cloud.r-project.org/bin/linux/ubuntu bionic-cran40/ InRelease\n",
            "\r0% [Connecting to archive.ubuntu.com (91.189.88.152)] [1 InRelease 88.7 kB/88.7\r                                                                               \r0% [Waiting for headers] [Waiting for headers] [Waiting for headers]\r                                                                    \rIgn:3 https://developer.download.nvidia.com/compute/cuda/repos/ubuntu1804/x86_64  InRelease\n",
            "\r0% [Waiting for headers] [Waiting for headers] [Waiting for headers]\r0% [2 InRelease gpgv 3,626 B] [Waiting for headers] [Waiting for headers] [Wait\r                                                                               \rIgn:4 https://developer.download.nvidia.com/compute/machine-learning/repos/ubuntu1804/x86_64  InRelease\n",
            "Hit:5 https://developer.download.nvidia.com/compute/cuda/repos/ubuntu1804/x86_64  Release\n",
            "Hit:6 http://ppa.launchpad.net/c2d4u.team/c2d4u4.0+/ubuntu bionic InRelease\n",
            "Hit:7 https://developer.download.nvidia.com/compute/machine-learning/repos/ubuntu1804/x86_64  Release\n",
            "Hit:8 http://archive.ubuntu.com/ubuntu bionic InRelease\n",
            "Get:9 http://archive.ubuntu.com/ubuntu bionic-updates InRelease [88.7 kB]\n",
            "Hit:10 http://ppa.launchpad.net/cran/libgit2/ubuntu bionic InRelease\n",
            "Hit:11 http://ppa.launchpad.net/graphics-drivers/ppa/ubuntu bionic InRelease\n",
            "Get:12 http://archive.ubuntu.com/ubuntu bionic-backports InRelease [74.6 kB]\n",
            "Fetched 252 kB in 4s (68.3 kB/s)\n",
            "Reading package lists... Done\n"
          ],
          "name": "stdout"
        }
      ]
    },
    {
      "cell_type": "code",
      "metadata": {
        "colab": {
          "base_uri": "https://localhost:8080/"
        },
        "id": "_xKwTpATHqSe",
        "outputId": "34777035-c890-4b92-a89a-70ffb1e9c2d9"
      },
      "source": [
        "# Download the Postgres driver that will allow Spark to interact with Postgres.\n",
        "!wget https://jdbc.postgresql.org/download/postgresql-42.2.16.jar"
      ],
      "execution_count": null,
      "outputs": [
        {
          "output_type": "stream",
          "text": [
            "--2021-02-08 21:36:16--  https://jdbc.postgresql.org/download/postgresql-42.2.16.jar\n",
            "Resolving jdbc.postgresql.org (jdbc.postgresql.org)... 72.32.157.228, 2001:4800:3e1:1::228\n",
            "Connecting to jdbc.postgresql.org (jdbc.postgresql.org)|72.32.157.228|:443... connected.\n",
            "HTTP request sent, awaiting response... 200 OK\n",
            "Length: 1002883 (979K) [application/java-archive]\n",
            "Saving to: ‘postgresql-42.2.16.jar.3’\n",
            "\n",
            "postgresql-42.2.16. 100%[===================>] 979.38K  --.-KB/s    in 0.09s   \n",
            "\n",
            "2021-02-08 21:36:17 (11.2 MB/s) - ‘postgresql-42.2.16.jar.3’ saved [1002883/1002883]\n",
            "\n"
          ],
          "name": "stdout"
        }
      ]
    },
    {
      "cell_type": "code",
      "metadata": {
        "id": "MMqDAjVS0KN9"
      },
      "source": [
        "from pyspark.sql import SparkSession\n",
        "spark = SparkSession.builder.appName(\"BigData-Challenge\").config(\"spark.driver.extraClassPath\",\"/content/postgresql-42.2.16.jar\").getOrCreate()"
      ],
      "execution_count": null,
      "outputs": []
    },
    {
      "cell_type": "markdown",
      "metadata": {
        "id": "cyBsySGuY-9V"
      },
      "source": [
        "### Load Amazon Data into Spark DataFrame"
      ]
    },
    {
      "cell_type": "code",
      "metadata": {
        "colab": {
          "base_uri": "https://localhost:8080/"
        },
        "id": "CtCmBhQJY-9Z",
        "outputId": "781bbd73-b0f1-4a2c-d592-4e8895f808d8"
      },
      "source": [
        "from pyspark import SparkFiles\n",
        "url = \"https://s3.amazonaws.com/amazon-reviews-pds/tsv/amazon_reviews_us_Sports_v1_00.tsv.gz\"\n",
        "spark.sparkContext.addFile(url)\n",
        "df = spark.read.option(\"encoding\", \"UTF-8\").csv(SparkFiles.get(\"\"), sep=\"\\t\", header=True, inferSchema=True)\n",
        "df.show()"
      ],
      "execution_count": null,
      "outputs": [
        {
          "output_type": "stream",
          "text": [
            "+-----------+-----------+--------------+----------+--------------+--------------------+----------------+-----------+-------------+-----------+----+-----------------+--------------------+--------------------+-----------+\n",
            "|marketplace|customer_id|     review_id|product_id|product_parent|       product_title|product_category|star_rating|helpful_votes|total_votes|vine|verified_purchase|     review_headline|         review_body|review_date|\n",
            "+-----------+-----------+--------------+----------+--------------+--------------------+----------------+-----------+-------------+-----------+----+-----------------+--------------------+--------------------+-----------+\n",
            "|         US|   48945260|R1WBPB8MDCCN8F|B012P7UPSM|     409940130|Chicago Blackhawk...|          Sports|          5|            0|          0|   N|                N|   LOVE IT. 6 stars!|Bought this last ...| 2015-08-31|\n",
            "|         US|    5782091|R32M0YEWV77XG8|B001GQ3VHG|     657746679|Copag Poker Size ...|          Sports|          5|            1|          1|   N|                Y|       Shipped fast.|These are the bes...| 2015-08-31|\n",
            "|         US|   45813853| RR8V7WR27NXJ5|B008VS8M58|     962442336|Baoer 223 5.56x45...|          Sports|          1|            0|          0|   N|                Y|Good idea if it w...|It looks good, th...| 2015-08-31|\n",
            "|         US|    1593730|R1MHO5V9Z932AY|B005F06F4U|      74305227|All Terrain Tackl...|          Sports|          5|            0|          0|   N|                Y|          Five Stars|           Great jig| 2015-08-31|\n",
            "|         US|   29605511|R16PD71086BD2V|B010T4IE2C|     787185588|Swim Cap - 3 Pack...|          Sports|          5|            0|          1|   N|                N|Great quality sil...|I love swimming i...| 2015-08-31|\n",
            "|         US|   11112959|R1Z8IFGWTRWXT6|B004RKJGLS|      94127483|adidas Men's Spor...|          Sports|          3|            0|          0|   N|                Y|Love everything a...|Love everything a...| 2015-08-31|\n",
            "|         US|     108031|R3AUMSHAW73HWN|B005V3DCBU|     526977496|Nike Men's Perfor...|          Sports|          4|            2|          3|   N|                N|          Four Stars|not the best sock...| 2015-08-31|\n",
            "|         US|   13981540|R2KWDWFOHGX6FL|B00MHT9WN8|      26521265|Green Bay Packers...|          Sports|          5|            0|          0|   N|                Y|          Five Stars|             Love it| 2015-08-31|\n",
            "|         US|   37993909|R3H9543FWBWFBU|B001CSIRQ8|     652431165|Isokinetics Inc. ...|          Sports|          5|            1|          1|   N|                Y|can't wait to use it|Unfortunately I h...| 2015-08-31|\n",
            "|         US|   26040213| RUANXOQ9W3OU5|B001KZ3NOO|     635861713|Aottop Quality El...|          Sports|          5|            0|          0|   N|                Y|great product, ac...|fast shipping , g...| 2015-08-31|\n",
            "|         US|   34657602|R31673RTGEZSW7|B00005RCQS|      72099763|Everlast 2'x6' Fo...|          Sports|          5|            2|          2|   N|                Y|this mat is a pre...|If you have a ter...| 2015-08-31|\n",
            "|         US|   14346192|R22OQLFSH42RCM|B00FA7RWVI|     757354022|OGIO Men's Shredd...|          Sports|          5|            1|          1|   N|                Y|  Versatile Golf Bag|Love this golf ba...| 2015-08-31|\n",
            "|         US|   38782687|R12LEL4F3TSZUJ|B000MMH2HU|     272402599|Blue Sea Systems ...|          Sports|          5|            2|          2|   N|                Y|Great AC Main Bre...|Perfect mounting ...| 2015-08-31|\n",
            "|         US|   27138575|R2L9XWD03072NI|B00WJOATDS|     375070208|Zengi AR15 45 Deg...|          Sports|          5|            1|          2|   N|                Y|   Nice, some quirks|For the cost you ...| 2015-08-31|\n",
            "|         US|   11838771|R2K0U91HIACANO|B00BOM2JNY|     639666785|Black Mountain Pr...|          Sports|          5|            0|          0|   N|                N|55 cm - Good qual...|The ball is very ...| 2015-08-31|\n",
            "|         US|     535800|R29SP6MBT7MXG7|B00OD5GAFM|      38715442|Trijicon VCOG 1-6...|          Sports|          4|            3|          3|   N|                Y|    Very nice scope.|Very nice scope.....| 2015-08-31|\n",
            "|         US|   23156579|R31XREAAMATEPY|B00CAHDC1K|      57088652|Naruto Headband f...|          Sports|          5|            0|          0|   N|                Y|was for my son an...|           This item| 2015-08-31|\n",
            "|         US|   48107879|R2116AVB87SO38|B004NLHXLG|     114125984|Under Armour Men'...|          Sports|          5|            0|          0|   N|                Y|          Five Stars|greatest socks i ...| 2015-08-31|\n",
            "|         US|   27260960|R3RDVBB6O0X3HW|B00L7OANWI|     883962979|Yes4All Deep Tiss...|          Sports|          5|            0|          0|   N|                Y|          Five Stars|Perfect for home ...| 2015-08-31|\n",
            "|         US|   39537314|R3LW5T149LKKQM|B0085PPSIQ|     691479969|Lansky PS-MED01 B...|          Sports|          4|            0|          0|   N|                Y|A bit heavy for p...|Very good product...| 2015-08-31|\n",
            "+-----------+-----------+--------------+----------+--------------+--------------------+----------------+-----------+-------------+-----------+----+-----------------+--------------------+--------------------+-----------+\n",
            "only showing top 20 rows\n",
            "\n"
          ],
          "name": "stdout"
        }
      ]
    },
    {
      "cell_type": "markdown",
      "metadata": {
        "id": "2yUSe55VY-9t"
      },
      "source": [
        "### Create DataFrames to match tables"
      ]
    },
    {
      "cell_type": "code",
      "metadata": {
        "id": "KFFfsj81qJrN",
        "colab": {
          "base_uri": "https://localhost:8080/"
        },
        "outputId": "a53d1eb0-32a7-48ef-b08e-51a716544a09"
      },
      "source": [
        "from pyspark.sql.functions import to_date\n",
        "# Read in the Review dataset as a DataFrame\n",
        "df = df.dropDuplicates()\n",
        "df.show()"
      ],
      "execution_count": null,
      "outputs": [
        {
          "output_type": "stream",
          "text": [
            "+-----------+-----------+--------------+----------+--------------+--------------------+----------------+-----------+-------------+-----------+----+-----------------+--------------------+--------------------+-----------+\n",
            "|marketplace|customer_id|     review_id|product_id|product_parent|       product_title|product_category|star_rating|helpful_votes|total_votes|vine|verified_purchase|     review_headline|         review_body|review_date|\n",
            "+-----------+-----------+--------------+----------+--------------+--------------------+----------------+-----------+-------------+-----------+----+-----------------+--------------------+--------------------+-----------+\n",
            "|         US|   21498849|R100E6OT70LKOZ|B001E29RG6|     221089601|Dallas Cowboys Lu...|          Sports|          3|            0|          0|   N|                Y|Pleased, but smal...|It's a great lunc...| 2011-02-27|\n",
            "|         US|   28299024|R100JZDN9RV012|B0035HEPXS|     173761747|Smooth Fitness 5....|          Sports|          5|            1|          2|   N|                N|All the features ...|I've had this tre...| 2011-10-05|\n",
            "|         US|   40179799|R100WJRDBA7IQ5|B0019GJZXW|     704428554|SKLZ Baseball Spe...|          Sports|          5|            0|          0|   N|                Y|Add me to the fan...|SKLZ makes great ...| 2014-06-18|\n",
            "|         US|   25717098|R100ZY64ZJVNVZ|B000MMZ5ZG|     247901753|Cannon Low-Profil...|          Sports|          5|            0|          0|   N|                Y|          Five Stars|         Works great| 2015-02-23|\n",
            "|         US|   42195961|R101GPEDWLA42J|B00U821IME|     647954521|5 Pcs Assort Agat...|          Sports|          4|            0|          0|   N|                Y|               Nice!|Great for my art ...| 2015-05-09|\n",
            "|         US|   22434214|R101ME0S73N6VJ|B007EIET44|     651071819| Cressi Silicone Cap|          Sports|          5|            0|          0|   N|                N|          Backup Cap|I have now purcha...| 2014-02-17|\n",
            "|         US|   26183682|R101WXYFUIKM3L|B0009PVUW8|     809898756|Park & Sun Sports...|          Sports|          5|            1|          1|   N|                Y|  Shipped Super Fast|I ordered the boc...| 2012-06-28|\n",
            "|         US|    2805819|R1025ZMLB7LVOB|B00L5QZ4YU|     221207062|UM Tactical UM3 S...|          Sports|          5|            7|          7|   N|                Y|This UM TActical ...|This UM TActical ...| 2014-12-12|\n",
            "|         US|    1032610|R1026YY3Y2Y90K|B001PR0NVS|     863659872|NFL Embossed Genu...|          Sports|          5|            0|          0|   N|                Y|          Five Stars|        great wallet| 2015-01-30|\n",
            "|         US|   14066424|R102ORVDLW2JPZ|B008L5Y0O8|     495880211|Under Armour Antl...|          Sports|          5|            0|          0|   N|                Y|         Great shirt|This shirt is gre...| 2015-03-14|\n",
            "|         US|   20169504|R10348PIRHUR7A|B00HUXLRWU|     835870599|11\" Ladies Pink S...|          Sports|          5|            0|          0|   N|                Y|          Five Stars|      As advertised.| 2015-02-25|\n",
            "|         US|   46549500|R10380S230DQQ7|B00FQ95YP6|     579026050|Amarine-made Aisi...|          Sports|          3|            0|          0|   N|                Y|          Didn't fit|Unfortunately, wh...| 2014-08-27|\n",
            "|         US|   23669776|R103DC1BJY82G7|B000VRML2W|     436968723|Danskin Waist Tri...|          Sports|          4|            0|          0|   N|                Y|        Works Great!|I'm pleased with ...| 2012-12-01|\n",
            "|         US|    9195109|R104ACH3OBJAML|B0041G9SOI|     152437907|Aftermath Kavia E...|          Sports|          5|            0|          0|   N|                Y|its a great way t...|All I can say is ...| 2014-01-05|\n",
            "|         US|   26532046|R104BHS2FYNHFP|B001QQE4S6|     395123874|River's Edge - Frame|          Sports|          5|            0|          0|   N|                Y|           Best gift|my brother in law...| 2013-02-26|\n",
            "|         US|    7758252|R104FJIJOFS6PR|B003B56OJM|     228242510|Sports Ring Displ...|          Sports|          4|            0|          0|   N|                N|Great Customer Se...|I ordered this la...| 2013-01-21|\n",
            "|         US|   14939677|R104ITJVBH5FGU|B00HQD09EG|     339924894|Pandamoto Car Mul...|          Sports|          5|            0|          0|   N|                Y|          Five Stars|Love the radio ha...| 2014-09-19|\n",
            "|         US|   43035050|R104KJMCXU44GK|B00M0JZR66|     841016575|Smith & Wesson 50...|          Sports|          5|            0|          1|   N|                Y|          Five Stars|Awesome, very cos...| 2015-05-02|\n",
            "|         US|   22580074|R104WM0MN0Q3V1|B000UDUTNA|     571271442|Millennium L-100 ...|          Sports|          5|            4|          5|   N|                Y|         Great stand|Best stand I have...| 2014-10-18|\n",
            "|         US|   32029444|R1051G50J79W9D|B000UVVX28|     933576150|McDavid Waist Tri...|          Sports|          1|            1|          5|   N|                Y|               Waist|I am not THAT big...| 2013-06-05|\n",
            "+-----------+-----------+--------------+----------+--------------+--------------------+----------------+-----------+-------------+-----------+----+-----------------+--------------------+--------------------+-----------+\n",
            "only showing top 20 rows\n",
            "\n"
          ],
          "name": "stdout"
        }
      ]
    },
    {
      "cell_type": "code",
      "metadata": {
        "colab": {
          "base_uri": "https://localhost:8080/"
        },
        "id": "B0TESUDRY-90",
        "outputId": "8ffc27e9-afb5-40b4-c34c-e9db9135d176"
      },
      "source": [
        "# Create the customers_table DataFrame\n",
        "customers_df = df.groupby(\"customer_id\").agg({\"customer_id\":\"count\"}).withColumnRenamed(\"count(customer_id)\", \"customer_count\")\n",
        "customers_df.show()"
      ],
      "execution_count": null,
      "outputs": [
        {
          "output_type": "stream",
          "text": [
            "+-----------+--------------+\n",
            "|customer_id|customer_count|\n",
            "+-----------+--------------+\n",
            "|    1513285|             7|\n",
            "|    1924038|             7|\n",
            "|    5625756|             3|\n",
            "|   48333068|             7|\n",
            "|   37443191|             4|\n",
            "|   11280609|             3|\n",
            "|   21867585|             5|\n",
            "|   10497342|             3|\n",
            "|   21191157|             1|\n",
            "|   22573812|             2|\n",
            "|     453520|             2|\n",
            "|    3327477|             1|\n",
            "|   27586144|            13|\n",
            "|   31304354|             1|\n",
            "|   52671971|             3|\n",
            "|   40384010|            10|\n",
            "|   19718760|             5|\n",
            "|   49464608|             1|\n",
            "|   48429739|            12|\n",
            "|   28814163|             3|\n",
            "+-----------+--------------+\n",
            "only showing top 20 rows\n",
            "\n"
          ],
          "name": "stdout"
        }
      ]
    },
    {
      "cell_type": "code",
      "metadata": {
        "colab": {
          "base_uri": "https://localhost:8080/"
        },
        "id": "4FwXA6UvY-96",
        "outputId": "aa108dec-1133-4887-c97f-423ff7ff4e7c"
      },
      "source": [
        "# Create the products_table DataFrame and drop duplicates. \n",
        "products_df = df.select([\"product_id\", \"product_title\"]).dropDuplicates([\"product_id\"])\n",
        "products_df.show()"
      ],
      "execution_count": null,
      "outputs": [
        {
          "output_type": "stream",
          "text": [
            "+----------+--------------------+\n",
            "|product_id|       product_title|\n",
            "+----------+--------------------+\n",
            "|1570340439|Compass & Map Nav...|\n",
            "|9879000633|Swordmaster - Uni...|\n",
            "|B00004RAN1|24x7x7 Pro Cage Trap|\n",
            "|B00005OU7P|Putt and Return P...|\n",
            "|B00005V3EN|Airzone Trampolin...|\n",
            "|B00008Z7M2|Koolatron 401619 ...|\n",
            "|B0000AAEMO|Seahawks Franklin...|\n",
            "|B0000AI0K1|Outdoor Cap Heavy...|\n",
            "|B0000ANGL1|NFL Men's New Yor...|\n",
            "|B0000ANHRR|Heatgear Loose Lo...|\n",
            "|B0000AU3AK|Everlast Genuine ...|\n",
            "|B0000AUTWD|Cubby 5011 Mini Mite|\n",
            "|B0000AVZBW|G- Lox  Deerskin ...|\n",
            "|B0000AXJT5|Pro Mex Professio...|\n",
            "|B0000AXNWO|   Ande Fluorocarbon|\n",
            "|B0000AXUET|Star brite Brush ...|\n",
            "|B0000AY199|DU-BRO Fishing Tr...|\n",
            "|B0000AYEE8|Attwood Stainiles...|\n",
            "|B0000AYGZ1|Attwood Stainless...|\n",
            "|B0000AZ8LS|Tacstar 4-Shot Re...|\n",
            "+----------+--------------------+\n",
            "only showing top 20 rows\n",
            "\n"
          ],
          "name": "stdout"
        }
      ]
    },
    {
      "cell_type": "code",
      "metadata": {
        "colab": {
          "base_uri": "https://localhost:8080/"
        },
        "id": "MkqyCuNQY-9-",
        "outputId": "e6b56998-2b6b-4c60-ef0f-7200cdc4674a"
      },
      "source": [
        "# Create the review_id_table DataFrame. \n",
        "# Convert the 'review_date' column to a date datatype with to_date(\"review_date\", 'yyyy-MM-dd').alias(\"review_date\")\n",
        "review_id_df = df.select([\"review_id\", \"customer_id\", \"product_id\", \"product_parent\", to_date(\"review_date\", 'yyyy-MM-dd').alias(\"review_date\")])\n",
        "review_id_df = review_id_df.orderBy(review_id_df[\"review_date\"].desc())\n",
        "review_id_df.show(truncate=False)\n"
      ],
      "execution_count": null,
      "outputs": [
        {
          "output_type": "stream",
          "text": [
            "+--------------+-----------+----------+--------------+-----------+\n",
            "|review_id     |customer_id|product_id|product_parent|review_date|\n",
            "+--------------+-----------+----------+--------------+-----------+\n",
            "|R3Q3SSAMUNPNUB|5395696    |B00MJJX232|223156006     |2015-08-31 |\n",
            "|R3PECDNYYQ8VHY|36107916   |B002NUJ4BQ|681483287     |2015-08-31 |\n",
            "|R2E4DTBWBJH567|23076646   |B00M4SAHU4|772767311     |2015-08-31 |\n",
            "|R19XM244JZ9Y6J|43813430   |B00TMB7P60|118717172     |2015-08-31 |\n",
            "|R2RA0PMSUCG94G|14937721   |B00L2TIIF2|120178619     |2015-08-31 |\n",
            "|R1CSBLWV5LDUHM|32867659   |B0058V99M6|359482358     |2015-08-31 |\n",
            "|R2SUZKU43IHP16|30307749   |B000GEZYHY|421097550     |2015-08-31 |\n",
            "|R1GQU093JVI9QO|39401371   |B000NUGLUK|168556111     |2015-08-31 |\n",
            "|R2T9FJJO45A5H1|1849628    |B00DF18A9E|618784910     |2015-08-31 |\n",
            "|R1R06GQR3ILKO1|34361917   |B004NKSPR8|465984134     |2015-08-31 |\n",
            "|R2XTOEZ4FLER91|36830969   |B00VQS75US|574565628     |2015-08-31 |\n",
            "|R25UR8KIZZQZ1K|49169081   |B00DE2N3KU|666584280     |2015-08-31 |\n",
            "|R331LL3MQ6KVIS|28576344   |B006EEIBWU|955403219     |2015-08-31 |\n",
            "|R2756KCV90P0EP|33587457   |B00565XD9E|26604391      |2015-08-31 |\n",
            "|R3BDXQ1KJUXRVF|13264509   |B00R1UJ8L4|585612980     |2015-08-31 |\n",
            "|R1B4FP9GJWTQ6E|14534220   |B0016BUR7I|454277164     |2015-08-31 |\n",
            "|R3IP2NMEM0FQ1F|50003515   |B00O1YE480|599658667     |2015-08-31 |\n",
            "|R29XFLRX9VRIU1|34146651   |B001EXO15M|327142618     |2015-08-31 |\n",
            "|R3K01RFR7ETR4T|32142027   |B003RYJ71Y|672213136     |2015-08-31 |\n",
            "|R25ZP5EHI0L1T6|12744104   |B004U5T002|339736525     |2015-08-31 |\n",
            "+--------------+-----------+----------+--------------+-----------+\n",
            "only showing top 20 rows\n",
            "\n"
          ],
          "name": "stdout"
        }
      ]
    },
    {
      "cell_type": "code",
      "metadata": {
        "colab": {
          "base_uri": "https://localhost:8080/"
        },
        "id": "pq204CbPoT_s",
        "outputId": "8a101547-c9af-4453-8fdb-23197e15afa2"
      },
      "source": [
        "review_id_df.count()"
      ],
      "execution_count": null,
      "outputs": [
        {
          "output_type": "execute_result",
          "data": {
            "text/plain": [
              "4850360"
            ]
          },
          "metadata": {
            "tags": []
          },
          "execution_count": 65
        }
      ]
    },
    {
      "cell_type": "code",
      "metadata": {
        "colab": {
          "base_uri": "https://localhost:8080/"
        },
        "id": "lzMmkdKmY--D",
        "outputId": "7fb58c36-fd49-4e29-eab6-da7b3f52fd32"
      },
      "source": [
        "from pyspark.sql.types import IntegerType\n",
        "# Create the vine_table. DataFrame\n",
        "vine_df = df.select([\"review_id\", \"star_rating\", \"helpful_votes\", \"total_votes\",\"vine\", \"verified_purchase\"])\n",
        "vine_df = vine_df.withColumn(\"star_rating\", vine_df[\"star_rating\"].cast(IntegerType()))\n",
        "vine_df.show()\n"
      ],
      "execution_count": null,
      "outputs": [
        {
          "output_type": "stream",
          "text": [
            "+--------------+-----------+-------------+-----------+----+-----------------+\n",
            "|     review_id|star_rating|helpful_votes|total_votes|vine|verified_purchase|\n",
            "+--------------+-----------+-------------+-----------+----+-----------------+\n",
            "|R100E6OT70LKOZ|          3|            0|          0|   N|                Y|\n",
            "|R100JZDN9RV012|          5|            1|          2|   N|                N|\n",
            "|R100WJRDBA7IQ5|          5|            0|          0|   N|                Y|\n",
            "|R100ZY64ZJVNVZ|          5|            0|          0|   N|                Y|\n",
            "|R101GPEDWLA42J|          4|            0|          0|   N|                Y|\n",
            "|R101ME0S73N6VJ|          5|            0|          0|   N|                N|\n",
            "|R101WXYFUIKM3L|          5|            1|          1|   N|                Y|\n",
            "|R1025ZMLB7LVOB|          5|            7|          7|   N|                Y|\n",
            "|R1026YY3Y2Y90K|          5|            0|          0|   N|                Y|\n",
            "|R102ORVDLW2JPZ|          5|            0|          0|   N|                Y|\n",
            "|R10348PIRHUR7A|          5|            0|          0|   N|                Y|\n",
            "|R10380S230DQQ7|          3|            0|          0|   N|                Y|\n",
            "|R103DC1BJY82G7|          4|            0|          0|   N|                Y|\n",
            "|R104ACH3OBJAML|          5|            0|          0|   N|                Y|\n",
            "|R104BHS2FYNHFP|          5|            0|          0|   N|                Y|\n",
            "|R104FJIJOFS6PR|          4|            0|          0|   N|                N|\n",
            "|R104ITJVBH5FGU|          5|            0|          0|   N|                Y|\n",
            "|R104KJMCXU44GK|          5|            0|          1|   N|                Y|\n",
            "|R104WM0MN0Q3V1|          5|            4|          5|   N|                Y|\n",
            "|R1051G50J79W9D|          1|            1|          5|   N|                Y|\n",
            "+--------------+-----------+-------------+-----------+----+-----------------+\n",
            "only showing top 20 rows\n",
            "\n"
          ],
          "name": "stdout"
        }
      ]
    },
    {
      "cell_type": "markdown",
      "metadata": {
        "id": "jITZhLkmY--J"
      },
      "source": [
        "### Connect to the AWS RDS instance and write each DataFrame to its table. "
      ]
    },
    {
      "cell_type": "code",
      "metadata": {
        "id": "7jiUvs1aY--L"
      },
      "source": [
        "# Configure settings for RDS\n",
        "mode = \"append\"\n",
        "jdbc_url=\"jdbc:postgresql://sports-dataviz.cwyxlmcyknmj.us-east-2.rds.amazonaws.com:5432/Challenge\"\n",
        "config = {\"user\":\"postgres\", \n",
        "          \"password\": \"srhaley6299\", \n",
        "          \"driver\":\"org.postgresql.Driver\"}"
      ],
      "execution_count": null,
      "outputs": []
    },
    {
      "cell_type": "code",
      "metadata": {
        "id": "T2zgZ-aKY--Q"
      },
      "source": [
        "# Write review_id_df to table in RDS\n",
        "review_id_df.write.jdbc(url=jdbc_url, table='review_id_table', mode=mode, properties=config)"
      ],
      "execution_count": null,
      "outputs": []
    },
    {
      "cell_type": "code",
      "metadata": {
        "id": "1m3yzn-LY--U"
      },
      "source": [
        "# Write products_df to table in RDS\n",
        "# about 3 min\n",
        "products_df.write.jdbc(url=jdbc_url, table='products_table', mode=mode, properties=config)"
      ],
      "execution_count": null,
      "outputs": []
    },
    {
      "cell_type": "code",
      "metadata": {
        "id": "KbXri15fY--Z"
      },
      "source": [
        "# Write customers_df to table in RDS\n",
        "# 5 min 14 s\n",
        "customers_df.write.jdbc(url=jdbc_url, table='customers_table', mode=mode, properties=config)"
      ],
      "execution_count": null,
      "outputs": []
    },
    {
      "cell_type": "code",
      "metadata": {
        "id": "XdQknSHLY--e"
      },
      "source": [
        "# Write vine_df to table in RDS\n",
        "# 11 minutes\n",
        "vine_df.write.jdbc(url=jdbc_url, table='vine_table', mode=mode, properties=config)"
      ],
      "execution_count": null,
      "outputs": []
    },
    {
      "cell_type": "code",
      "metadata": {
        "colab": {
          "background_save": true
        },
        "id": "Exuo6ebUsCqW"
      },
      "source": [
        ""
      ],
      "execution_count": null,
      "outputs": []
    }
  ]
}